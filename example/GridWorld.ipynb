{
 "cells": [
  {
   "cell_type": "markdown",
   "metadata": {},
   "source": [
    "# GridWorld Example\n",
    "\n",
    "Let's see how to make this API work with GridWorld! This reinforcement learning API requires 3 things to be defined before we start running algorithms:\n",
    "\n",
    "+ BlackBoxModel: defines the problem--see below for an example!\n",
    "+ Policy: this is where your domain knowledge comes in--define action space and feature functions\n",
    "+ Solver: This is where the API takes over and you just specify what you want to use"
   ]
  },
  {
   "cell_type": "code",
   "execution_count": 1,
   "metadata": {
    "collapsed": false
   },
   "outputs": [
    {
     "data": {
      "text/html": [
       "<script charset=\"utf-8\">(function ($, undefined) {\n",
       "\n",
       "    function createElem(tag, attr, content) {\n",
       "\t// TODO: remove jQuery dependency\n",
       "\tvar el = $(\"<\" + tag + \"/>\").attr(attr);\n",
       "\tif (content) {\n",
       "\t    el.append(content);\n",
       "\t}\n",
       "\treturn el[0];\n",
       "    }\n",
       "\n",
       "    // A widget must expose an id field which identifies it to the backend,\n",
       "    // an elem attribute which is will be added to the DOM, and\n",
       "    // a getState() method which returns the value to be sent to the backend\n",
       "    // a sendUpdate() method which sends its current value to the backend\n",
       "    var Widget = {\n",
       "\tid: undefined,\n",
       "\telem: undefined,\n",
       "\tlabel: undefined,\n",
       "\tgetState: function () {\n",
       "\t    return this.elem.value;\n",
       "\t},\n",
       "\tsendUpdate: undefined\n",
       "    };\n",
       "\n",
       "    var Slider = function (typ, id, init) {\n",
       "\tvar attr = { type:  \"range\",\n",
       "\t\t     value: init.value,\n",
       "\t\t     min:   init.min,\n",
       "\t\t     max:   init.max,\n",
       "\t\t     step:  init.step },\n",
       "\t    elem = createElem(\"input\", attr),\n",
       "\t    self = this;\n",
       "\n",
       "\telem.onchange = function () {\n",
       "\t    self.sendUpdate();\n",
       "\t}\n",
       "\n",
       "\tthis.id = id;\n",
       "\tthis.elem = elem;\n",
       "\tthis.label = init.label;\n",
       "\n",
       "\tInputWidgets.commInitializer(this); // Initialize communication\n",
       "    }\n",
       "    Slider.prototype = Widget;\n",
       "\n",
       "    var Checkbox = function (typ, id, init) {\n",
       "\tvar attr = { type: \"checkbox\",\n",
       "\t\t     checked: init.value },\n",
       "\t    elem = createElem(\"input\", attr),\n",
       "\t    self = this;\n",
       "\n",
       "\tthis.getState = function () {\n",
       "\t    return elem.checked;\n",
       "\t}\n",
       "\telem.onchange = function () {\n",
       "\t    self.sendUpdate();\n",
       "\t}\n",
       "\n",
       "\tthis.id = id;\n",
       "\tthis.elem = elem;\n",
       "\tthis.label = init.label;\n",
       "\n",
       "\tInputWidgets.commInitializer(this);\n",
       "    }\n",
       "    Checkbox.prototype = Widget;\n",
       "\n",
       "    var Button = function (typ, id, init) {\n",
       "\tvar attr = { type:    \"button\",\n",
       "\t\t     value:   init.label },\n",
       "\t    elem = createElem(\"input\", attr),\n",
       "\t    self = this;\n",
       "\tthis.getState = function () {\n",
       "\t    return null;\n",
       "\t}\n",
       "\telem.onclick = function () {\n",
       "\t    self.sendUpdate();\n",
       "\t}\n",
       "\n",
       "\tthis.id = id;\n",
       "\tthis.elem = elem;\n",
       "\tthis.label = init.label;\n",
       "\n",
       "\tInputWidgets.commInitializer(this);\n",
       "    }\n",
       "    Button.prototype = Widget;\n",
       "\n",
       "    var Text = function (typ, id, init) {\n",
       "\tvar attr = { type:  \"text\",\n",
       "\t\t     placeholder: init.label,\n",
       "\t\t     value: init.value },\n",
       "\t    elem = createElem(\"input\", attr),\n",
       "\t    self = this;\n",
       "\tthis.getState = function () {\n",
       "\t    return elem.value;\n",
       "\t}\n",
       "\telem.onkeyup = function () {\n",
       "\t    self.sendUpdate();\n",
       "\t}\n",
       "\n",
       "\tthis.id = id;\n",
       "\tthis.elem = elem;\n",
       "\tthis.label = init.label;\n",
       "\n",
       "\tInputWidgets.commInitializer(this);\n",
       "    }\n",
       "    Text.prototype = Widget;\n",
       "\n",
       "    var Textarea = function (typ, id, init) {\n",
       "\tvar attr = { placeholder: init.label },\n",
       "\t    elem = createElem(\"textarea\", attr, init.value),\n",
       "\t    self = this;\n",
       "\tthis.getState = function () {\n",
       "\t    return elem.value;\n",
       "\t}\n",
       "\telem.onchange = function () {\n",
       "\t    self.sendUpdate();\n",
       "\t}\n",
       "\n",
       "\tthis.id = id;\n",
       "\tthis.elem = elem;\n",
       "\tthis.label = init.label;\n",
       "\n",
       "\tInputWidgets.commInitializer(this);\n",
       "    }\n",
       "    Textarea.prototype = Widget;\n",
       "\n",
       "    // RadioButtons\n",
       "    // Dropdown\n",
       "    // HTML\n",
       "    // Latex\n",
       "\n",
       "    var InputWidgets = {\n",
       "\tSlider: Slider,\n",
       "\tCheckbox: Checkbox,\n",
       "\tButton: Button,\n",
       "\tText: Text,\n",
       "\tTextarea: Textarea,\n",
       "\tdebug: false,\n",
       "\tlog: function () {\n",
       "\t    if (InputWidgets.debug) {\n",
       "\t\tconsole.log.apply(console, arguments);\n",
       "\t    }\n",
       "\t},\n",
       "\t// a central way to initalize communication\n",
       "\t// for widgets.\n",
       "\tcommInitializer: function (widget) {\n",
       "\t    widget.sendUpdate = function () {};\n",
       "\t}\n",
       "    };\n",
       "\n",
       "    window.InputWidgets = InputWidgets;\n",
       "\n",
       "})(jQuery, undefined);\n",
       "</script>"
      ]
     },
     "metadata": {},
     "output_type": "display_data"
    },
    {
     "data": {
      "text/html": [
       "<div id=\"interact-js-shim\">\n",
       "    <script charset=\"utf-8\">\n",
       "(function (IPython, $, _, MathJax, Widgets) {\n",
       "    $.event.special.destroyed = {\n",
       "\tremove: function(o) {\n",
       "\t    if (o.handler) {\n",
       "\t\to.handler.apply(this, arguments)\n",
       "\t    }\n",
       "\t}\n",
       "    }\n",
       "\n",
       "    var OutputArea = IPython.version >= \"4.0.0\" ? require(\"notebook/js/outputarea\").OutputArea : IPython.OutputArea;\n",
       "\n",
       "    var redrawValue = function (container, type, val) {\n",
       "\tvar selector = $(\"<div/>\");\n",
       "\tvar oa = new OutputArea(_.extend(selector, {\n",
       "\t    selector: selector,\n",
       "\t    prompt_area: true,\n",
       "\t    events: IPython.events,\n",
       "\t    keyboard_manager: IPython.keyboard_manager\n",
       "\t})); // Hack to work with IPython 2.1.0\n",
       "\n",
       "\tswitch (type) {\n",
       "\tcase \"image/png\":\n",
       "            var _src = 'data:' + type + ';base64,' + val;\n",
       "\t    $(container).find(\"img\").attr('src', _src);\n",
       "\t    break;\n",
       "\tdefault:\n",
       "\t    var toinsert = OutputArea.append_map[type].apply(\n",
       "\t\toa, [val, {}, selector]\n",
       "\t    );\n",
       "\t    $(container).empty().append(toinsert.contents());\n",
       "\t    selector.remove();\n",
       "\t}\n",
       "\tif (type === \"text/latex\" && MathJax) {\n",
       "\t    MathJax.Hub.Queue([\"Typeset\", MathJax.Hub, toinsert.get(0)]);\n",
       "\t}\n",
       "    }\n",
       "\n",
       "\n",
       "    $(document).ready(function() {\n",
       "\tWidgets.debug = false; // log messages etc in console.\n",
       "\tfunction initComm(evt, data) {\n",
       "\t    var comm_manager = data.kernel.comm_manager;\n",
       "        //_.extend(comm_manager.targets, require(\"widgets/js/widget\"))\n",
       "\t    comm_manager.register_target(\"Signal\", function (comm) {\n",
       "            comm.on_msg(function (msg) {\n",
       "                //Widgets.log(\"message received\", msg);\n",
       "                var val = msg.content.data.value;\n",
       "                $(\".signal-\" + comm.comm_id).each(function() {\n",
       "                var type = $(this).data(\"type\");\n",
       "                if (val[type]) {\n",
       "                    redrawValue(this, type, val[type], type);\n",
       "                }\n",
       "                });\n",
       "                delete val;\n",
       "                delete msg.content.data.value;\n",
       "            });\n",
       "\t    });\n",
       "\n",
       "\t    // coordingate with Comm and redraw Signals\n",
       "\t    // XXX: Test using Reactive here to improve performance\n",
       "\t    $([IPython.events]).on(\n",
       "\t\t'output_appended.OutputArea', function (event, type, value, md, toinsert) {\n",
       "\t\t    if (md && md.reactive) {\n",
       "                // console.log(md.comm_id);\n",
       "                toinsert.addClass(\"signal-\" + md.comm_id);\n",
       "                toinsert.data(\"type\", type);\n",
       "                // Signal back indicating the mimetype required\n",
       "                var comm_manager = IPython.notebook.kernel.comm_manager;\n",
       "                var comm = comm_manager.comms[md.comm_id];\n",
       "                comm.then(function (c) {\n",
       "                    c.send({action: \"subscribe_mime\",\n",
       "                       mime: type});\n",
       "                    toinsert.bind(\"destroyed\", function() {\n",
       "                        c.send({action: \"unsubscribe_mime\",\n",
       "                               mime: type});\n",
       "                    });\n",
       "                })\n",
       "\t\t    }\n",
       "\t    });\n",
       "\t}\n",
       "\n",
       "\ttry {\n",
       "\t    // try to initialize right away. otherwise, wait on the status_started event.\n",
       "\t    initComm(undefined, IPython.notebook);\n",
       "\t} catch (e) {\n",
       "\t    $([IPython.events]).on('kernel_created.Kernel kernel_created.Session', initComm);\n",
       "\t}\n",
       "    });\n",
       "})(IPython, jQuery, _, MathJax, InputWidgets);\n",
       "</script>\n",
       "    <script>\n",
       "        window.interactLoadedFlag = true\n",
       "       $(\"#interact-js-shim\").bind(\"destroyed\", function () {\n",
       "           if (window.interactLoadedFlag) {\n",
       "               console.warn(\"JavaScript required by Interact will be removed if you remove this cell or run using Interact more than once.\")\n",
       "           }\n",
       "       })\n",
       "       $([IPython.events]).on(\"kernel_starting.Kernel kernel_restarting.Kernel\", function () { window.interactLoadedFlag = false })\n",
       "   </script>\n",
       "</div>"
      ]
     },
     "metadata": {},
     "output_type": "display_data"
    },
    {
     "name": "stderr",
     "output_type": "stream",
     "text": [
      "WARNING: New definition \n",
      "    action(ReinforcementLearning.Policy, ReinforcementLearning.ActorCritic, #T<:Any) at /home/chris/Documents/Research/ReinforcementLearning/src/policy.jl:208\n",
      "is ambiguous with: \n",
      "    action(ReinforcementLearning.EpsilonGreedyPolicy, ReinforcementLearning.UpdaterParam, #T<:Any) at /home/chris/Documents/Research/ReinforcementLearning/src/policy.jl:127.\n",
      "To fix, define \n",
      "    action(ReinforcementLearning.EpsilonGreedyPolicy, ReinforcementLearning.ActorCritic, #T<:Any)\n",
      "before the new definition.\n",
      "WARNING: New definition \n",
      "    action(ReinforcementLearning.Policy, ReinforcementLearning.ActorCritic, #T<:Any) at /home/chris/Documents/Research/ReinforcementLearning/src/policy.jl:208\n",
      "is ambiguous with: \n",
      "    action(ReinforcementLearning.SoftmaxPolicy, ReinforcementLearning.UpdaterParam, #T<:Any) at /home/chris/Documents/Research/ReinforcementLearning/src/policy.jl:168.\n",
      "To fix, define \n",
      "    action(ReinforcementLearning.SoftmaxPolicy, ReinforcementLearning.ActorCritic, #T<:Any)\n",
      "before the new definition.\n"
     ]
    }
   ],
   "source": [
    "include(joinpath(\"..\",\"src\",\"ReinforcementLearning.jl\"))\n",
    "using ReinforcementLearning"
   ]
  },
  {
   "cell_type": "markdown",
   "metadata": {},
   "source": [
    "## Define Black Box Model Functions\n",
    "\n",
    "The BlackBoxModel type requires the following things to be defined:\n",
    "+ `model`: a generic type that holds all your model parameters for a specific instance of your problem\n",
    "+ `init(model,rng)`: generate an initial state\n",
    "+ `observe(model,rng,state,action=None)`: return an observation based on your state (and action--this isn't quite ironed out yet)\n",
    "+ `next_state(model,rng,state,action)`: generate a next state given your state, action and problem parameterization\n",
    "+ `reward(model,rng,state,action)`: generate a reward based on your state and action and problem parameterization\n",
    "+ `isterminal(model,state,action)`: return a boolean of whether a state (and action) is terminal or not"
   ]
  },
  {
   "cell_type": "code",
   "execution_count": 2,
   "metadata": {
    "collapsed": false
   },
   "outputs": [],
   "source": [
    "using PyPlot\n",
    "using Interact\n",
    "\n",
    "typealias State Tuple{Int,Int}\n",
    "typealias Action Tuple{Int,Int}\n",
    "\n",
    "type GridWorldModel <: Model\n",
    "  W::Int\n",
    "  H::Int\n",
    "  p_other::Float64\n",
    "  reward_locs::Dict{State,Float64}\n",
    "  collide_cost::Float64\n",
    "    cost_of_living::Float64\n",
    "    A::Array{Action,1}\n",
    "end"
   ]
  },
  {
   "cell_type": "code",
   "execution_count": 3,
   "metadata": {
    "collapsed": false
   },
   "outputs": [
    {
     "data": {
      "text/plain": [
       "next (generic function with 1 method)"
      ]
     },
     "execution_count": 3,
     "metadata": {},
     "output_type": "execute_result"
    }
   ],
   "source": [
    "init2(m::GridWorldModel,rng::AbstractRNG) = (rand(rng,1:m.W),rand(rng,1:m.H))\n",
    "init1(m::GridWorldModel,rng::AbstractRNG) = (1,1)\n",
    "\n",
    "isend1(rng::AbstractRNG,m::GridWorldModel,s::State,a::Action) = s in keys(m.reward_locs)\n",
    "isend2(rng::AbstractRNG,m::GridWorldModel,s::State,a::Action) = false\n",
    "\n",
    "function reward(rng::AbstractRNG,m::GridWorldModel,s::State,a::Action)\n",
    "    r = get(m.reward_locs,s,0.)\n",
    "  x_ = s[1] + a[1]\n",
    "  y_ = s[2] + a[2]\n",
    "\n",
    "  if (x_ < 1) || (x_ > m.W)\n",
    "    r += m.collide_cost\n",
    "  elseif (y_ < 1) || (x_ > m.H)\n",
    "    r += m.collide_cost\n",
    "  end\n",
    "    \n",
    "    r += m.cost_of_living #cost of living\n",
    "    \n",
    "  return r\n",
    "\n",
    "end\n",
    "\n",
    "function next(rng::AbstractRNG,m::GridWorldModel,s::State,a::Action)\n",
    "    A_other = setdiff(m.A,[a,(-1*a[1],-1*a[2])])\n",
    "\n",
    "  if rand(rng) < m.p_other\n",
    "    _a = A_other[rand(rng,1:length(A_other))]\n",
    "  else\n",
    "    _a = a\n",
    "  end\n",
    "  x_ = s[1] + _a[1]\n",
    "  y_ = s[2] + _a[2]\n",
    "\n",
    "  x_ = max(min(x_,m.W),1)\n",
    "  y_ = max(min(y_,m.H),1)\n",
    "\n",
    "  return (x_,y_)\n",
    "end"
   ]
  },
  {
   "cell_type": "markdown",
   "metadata": {},
   "source": [
    "Here we also implement some quality of life functions, such as an explicity one-hot feature function for each state-action pair, and a visualization function"
   ]
  },
  {
   "cell_type": "code",
   "execution_count": 4,
   "metadata": {
    "collapsed": false
   },
   "outputs": [
    {
     "data": {
      "text/plain": [
       "visualize (generic function with 2 methods)"
      ]
     },
     "execution_count": 4,
     "metadata": {},
     "output_type": "execute_result"
    }
   ],
   "source": [
    "\n",
    "function generate_joint_featurefunction(m::GridWorldModel)\n",
    "\n",
    "  nb_feat = m.W*m.H\n",
    "  function feature_function(s::State)\n",
    "    active_indices = [s[1]+m.W*(s[2]-1)]\n",
    "    phi = sparsevec(active_indices,ones(length(active_indices)),nb_feat)\n",
    "    return phi\n",
    "  end\n",
    "  return feature_function\n",
    "end\n",
    "\n",
    "\n",
    "function generate_disjoint_featurefunction(m::GridWorldModel)\n",
    "    nb_feat = m.W + m.H\n",
    "    function feature_function(s::State)\n",
    "        active_indices = [s[1];m.W+s[2]]\n",
    "        return sparsevec(active_indices,ones(2),nb_feat)\n",
    "    end\n",
    "end\n",
    "\n",
    "function visualize(m::GridWorldModel,s::State,a::Action)\n",
    "  #base grid\n",
    "  for i = 1:m.W\n",
    "    for j = 1:m.H\n",
    "      val = get(m.reward_locs,(i,j),0.)\n",
    "      if val > 0\n",
    "        color = \"#31B404\"\n",
    "      elseif val < 0\n",
    "        color = \"#FF0000\"\n",
    "      else\n",
    "        color = \"#A4A4A4\"\n",
    "      end\n",
    "            fill([i;i+1;i+1;i],[j;j;j+1;j+1],color=color,edgecolor=\"#FFFFFF\")\n",
    "    end #j\n",
    "  end #i\n",
    "\n",
    "  #draw agent\n",
    "  agent_color = \"#0101DF\"\n",
    "  x = s[1] + 0.5\n",
    "  y = s[2] + 0.5\n",
    "  fill([x-0.5;x;x+0.5;x],[y;y-0.5;y;y+0.5],color=agent_color)\n",
    "  #draw direction\n",
    "  arrow(x,y,0.5*a[1],0.5*a[2],width=0.1,head_width=0.15,head_length=0.5)\n",
    "\n",
    "end\n",
    "\n",
    "function visualize(m::GridWorldModel,S::Array{State,1},A::Array{Action,1})\n",
    "  assert(length(S) == length(A))\n",
    "  f = figure()\n",
    "  @manipulate for i = 1:length(S); withfig(f) do\n",
    "    visualize(m,S[i],A[i]) end\n",
    "  end\n",
    "end"
   ]
  },
  {
   "cell_type": "code",
   "execution_count": 5,
   "metadata": {
    "collapsed": false
   },
   "outputs": [
    {
     "data": {
      "text/plain": [
       "4-element Array{Tuple{Int64,Int64},1}:\n",
       " (1,0) \n",
       " (-1,0)\n",
       " (0,1) \n",
       " (0,-1)"
      ]
     },
     "execution_count": 5,
     "metadata": {},
     "output_type": "execute_result"
    }
   ],
   "source": [
    "_A = Action[(1,0),(-1,0),(0,1),(0,-1)]"
   ]
  },
  {
   "cell_type": "code",
   "execution_count": 41,
   "metadata": {
    "collapsed": false
   },
   "outputs": [
    {
     "data": {
      "text/plain": [
       "GridWorldModel(10,10,0.001,Dict((10,10)=>10.0),-1.0,-0.01,[(1,0),(-1,0),(0,1),(0,-1)])"
      ]
     },
     "execution_count": 41,
     "metadata": {},
     "output_type": "execute_result"
    }
   ],
   "source": [
    "W = 10\n",
    "H = 10\n",
    "p_other = 0.001\n",
    "\"\"\"\n",
    "reward_locs = Dict{State,Float64}((W,H)=>10.,\n",
    "                                    (floor(Int,W*3/4),floor(Int,H/2))=>-5.,\n",
    "                                    (floor(Int,W/2),floor(Int,H*3/4))=>-5.,\n",
    "                                    (floor(Int,W/4+1),floor(Int,H/4+1))=>-5.,\n",
    "                                    (1,floor(Int,H/2))=>-5.,\n",
    "                                    (W,floor(Int,H*3/4))=>-5.,\n",
    "                                    (floor(Int,W/2),1)=>-5.,\n",
    "                                    (floor(Int,W*3/4),H)=>-5.,)\n",
    "\"\"\"\n",
    "reward_locs = Dict{State,Float64}([(i,i)=>-5. for i=2:(min(W,H)-1)])\n",
    "reward_locs[(W,H)] = 10.\n",
    "for i = 1:4\n",
    "    #reward_locs[(i,H-3+i)] = -5.\n",
    "    #reward_locs[(W-3+i,i)] = -5.\n",
    "    reward_locs[(W+1-i,i)] = -5.\n",
    "    reward_locs[(i,H+1-i)] = -5.\n",
    "end\n",
    "\n",
    "reward_locs = Dict{State,Float64}((W,H)=>10.)\n",
    "\n",
    "collide_cost = -1.\n",
    "cost_of_living = -0.01\n",
    "m = GridWorldModel(W,H,p_other,reward_locs,collide_cost,cost_of_living,_A)"
   ]
  },
  {
   "cell_type": "markdown",
   "metadata": {},
   "source": [
    "We now define the BlackBoxModel type. Note that we do not include an observation function in the constructor--in this case, it uses a default identity observation model"
   ]
  },
  {
   "cell_type": "code",
   "execution_count": 42,
   "metadata": {
    "collapsed": false
   },
   "outputs": [
    {
     "data": {
      "text/plain": [
       "ReinforcementLearning.BlackBoxModel{Tuple{Int64,Int64}}((1,1),isend1,next,ReinforcementLearning.__observe,reward,init1,GridWorldModel(10,10,0.001,Dict((10,10)=>10.0),-1.0,-0.01,[(1,0),(-1,0),(0,1),(0,-1)]),MersenneTwister(Base.dSFMT.DSFMT_state(Int32[-1128627394,1073450412,-1865543919,1073610501,363445882,1073515591,-1159453797,1073183925,-406866903,1073009405  …  -271439765,1073490720,1153361283,1072929539,1346397742,2069239478,-1252511126,1992602127,382,107]),[2.29184e-312,6.68226e-316,7.31086e-316,6.66109e-316,2.24932e-312,6.68226e-316,7.31089e-316,6.68232e-316,1.99501e-312,7.59449e-316  …  6.68237e-316,2.122e-314,0.0,4.19307e-311,2.2494e-312,6.68237e-316,6.68232e-316,6.68226e-316,5.75053e-316,6.68237e-316],382,UInt32[0x0001e14d]),false)"
      ]
     },
     "execution_count": 42,
     "metadata": {},
     "output_type": "execute_result"
    }
   ],
   "source": [
    "bbm = BlackBoxModel(m,init1,next,reward,isend1) "
   ]
  },
  {
   "cell_type": "markdown",
   "metadata": {},
   "source": [
    "## Setting Up the Policy\n",
    "\n",
    "In general for a policy, we have to define an ActionSpace (which we require to be exactly or a subset of the true action space), and feature function, which maps the state into a vector."
   ]
  },
  {
   "cell_type": "markdown",
   "metadata": {},
   "source": [
    "Tile coding is provided (the API for tilecoding needs work, however) for a quick and dirty function approximator in the continuous domain. For concreteness/generality, we include a function `cast_mc_state`, which in the most general case, will convert whatever state representation you have into an array of numbers"
   ]
  },
  {
   "cell_type": "code",
   "execution_count": 43,
   "metadata": {
    "collapsed": false
   },
   "outputs": [
    {
     "data": {
      "text/plain": [
       "ReinforcementLearning.DiscreteActionSpace{Tuple{Int64,Int64}}([(1,0),(-1,0),(0,1),(0,-1)])"
      ]
     },
     "execution_count": 43,
     "metadata": {},
     "output_type": "execute_result"
    }
   ],
   "source": [
    "feature_function = generate_joint_featurefunction(m)#generate_featurefunction(m,_A)\n",
    "#feature_function = generate_disjoint_featurefunction(m)\n",
    "A = DiscreteActionSpace(_A)"
   ]
  },
  {
   "cell_type": "code",
   "execution_count": 44,
   "metadata": {
    "collapsed": false
   },
   "outputs": [
    {
     "data": {
      "text/plain": [
       "ReinforcementLearning.EpsilonGreedyPolicy(MersenneTwister(Base.dSFMT.DSFMT_state(Int32[-221350187,1072739794,2129820112,1073023570,-830582303,1073167925,-438527054,1072733782,-2040260864,1073622770  …  -1839575433,1072789267,-1087258609,1073636821,-1794186335,275674027,-1351324733,828802335,382,107]),[6.95294e-310,6.36093e-316,4.94066e-324,0.0,0.0,6.36093e-316,6.36092e-316,5.37221e-316,4.94066e-324,6.36093e-316  …  2.3555e-312,5.37235e-316,7.59454e-316,7.31085e-316,6.95294e-310,5.37235e-316,6.94739e-310,0.0,5.37235e-316,5.37236e-316],382,UInt32[0x00000ca2]),ReinforcementLearning.DiscreteActionSpace{Tuple{Int64,Int64}}([(1,0),(-1,0),(0,1),(0,-1)]),feature_function,0.1,ReinforcementLearning.NullFeatureExpander{Tuple{Int64,Int64}}(Dict((0,-1)=>4,(1,0)=>1,(0,1)=>3,(-1,0)=>2)))"
      ]
     },
     "execution_count": 44,
     "metadata": {},
     "output_type": "execute_result"
    }
   ],
   "source": [
    "policy = EpsilonGreedyPolicy(feature_function,A,rng=MersenneTwister(3234),eps=0.1)"
   ]
  },
  {
   "cell_type": "markdown",
   "metadata": {},
   "source": [
    "## Choose and Set up your Solver\n",
    "\n",
    "Currently, the following solvers are supported:\n",
    "+ Forgetful LSTD(\\lambda) / LS-SARSA (untested)\n",
    "+ SARSA(\\lamda) \n",
    "+ Q(\\lambda) (unimplemented)\n",
    "+ GQ(\\lambda) (unimplemented)\n",
    "+ Double Q learning (untested)\n",
    "+ Deterministic Policy Gradient (unimplemented)\n",
    "+ (Natural) Actor-Critic (unimplemented\n",
    "+ LSPI/Batch TD (untested)\n",
    "+ True Online TD\n",
    "\n",
    "We just ask that you know a-priori how big your feature vectors are to make initialization easy"
   ]
  },
  {
   "cell_type": "code",
   "execution_count": 45,
   "metadata": {
    "collapsed": false
   },
   "outputs": [
    {
     "data": {
      "text/plain": [
       "ReinforcementLearning.GQParam(400x1 sparse matrix with 0 Float64 entries:,[0.0119501,0.0284123,0.0436589,-0.0253815,-0.0288015,-0.037348,0.0201112,0.0438817,0.0183945,-0.0425765  …  -0.0317579,0.0288903,0.00228773,0.00535764,0.0151077,-0.0258905,0.0240916,0.0378282,0.01738,-0.0463977],400x1 sparse matrix with 0 Float64 entries:,0.0001,0.95,ReinforcementLearning.DiscreteActionSpace{Tuple{Int64,Int64}}([(1,0),(-1,0),(0,1),(0,-1)]),true)"
      ]
     },
     "execution_count": 45,
     "metadata": {},
     "output_type": "execute_result"
    }
   ],
   "source": [
    "#there might be a smart way to stick this into a constructor, but for now...\n",
    "nb_features = length(ReinforcementLearning.expand(policy.exp,policy.feature_function(bbm.state),domain(A)[1]))\n",
    "updater = ForgetfulLSTDParam(nb_features,alpha=0.001/3)\n",
    "updater = SARSAParam(nb_features,lambda=0.7,init_method=\"unif_rand\",trace_type=\"replacing\")\n",
    "updater = QParam(nb_features,A,lambda=0.95)\n",
    "updater = GQParam(nb_features,A,b=0.0001)\n",
    "#updater = TrueOnlineTDParam(nb_features,lambda=0.95,init_method=\"unif_rand\")\n",
    "#mem_size = 50\n",
    "#updater = LSPIParam(nb_features,mem_size,del=0.01,discount=0.99)"
   ]
  },
  {
   "cell_type": "markdown",
   "metadata": {},
   "source": [
    "## Actually set up the real solver\n",
    "\n",
    "Some random cool things supported include:\n",
    "+ minibatching\n",
    "+ experience replay\n",
    "+ adaptive learning rates, e.g.:\n",
    "    * momentum\n",
    "    * nesterov momentum\n",
    "    * rmsprop\n",
    "    * adagrad\n",
    "    * adadelta\n",
    "    * adam\n",
    "+ simulated annealing (probably shouldn't support this)\n"
   ]
  },
  {
   "cell_type": "code",
   "execution_count": 46,
   "metadata": {
    "collapsed": false
   },
   "outputs": [
    {
     "data": {
      "text/plain": [
       "ReinforcementLearning.Solver(ReinforcementLearning.NullRateAdapter(0.001),2000,250,0.99,MersenneTwister(Base.dSFMT.DSFMT_state(Int32[-91462860,1072912861,204480478,1073329743,-890684795,1073513382,-903505016,1072806168,338829527,1072705478  …  62751789,1073482140,1955135002,1073102886,-1859048011,1705189642,1572702505,83218407,382,0]),[0.0,0.0,7.59464e-316,0.0,7.90505e-323,5.06911e-321,0.0,0.0,1.01541e-315,0.0  …  0.0,0.0,2.44039e-312,5.92245e-316,5.8835e-316,5.88634e-316,2.4403e-312,5.92245e-316,5.92327e-316,5.8835e-316],382,UInt32[0x00005d56]),ReinforcementLearning.NullAnnealer(),ReinforcementLearning.GQParam(400x1 sparse matrix with 0 Float64 entries:,[0.0119501,0.0284123,0.0436589,-0.0253815,-0.0288015,-0.037348,0.0201112,0.0438817,0.0183945,-0.0425765  …  -0.0317579,0.0288903,0.00228773,0.00535764,0.0151077,-0.0258905,0.0240916,0.0378282,0.01738,-0.0463977],400x1 sparse matrix with 0 Float64 entries:,0.0001,0.95,ReinforcementLearning.DiscreteActionSpace{Tuple{Int64,Int64}}([(1,0),(-1,0),(0,1),(0,-1)]),true),ReinforcementLearning.NullMinibatcher(),ReinforcementLearning.NullExperienceReplayer(),true,10,true,ReinforcementLearning.SolverHistory([0.0,0.0,0.0,0.0,0.0,0.0,0.0,0.0,0.0,0.0  …  0.0,0.0,0.0,0.0,0.0,0.0,0.0,0.0,0.0,0.0],[0.0,0.0,0.0,0.0,0.0,0.0,0.0,0.0,0.0,0.0  …  0.0,0.0,0.0,0.0,0.0,0.0,0.0,0.0,0.0,0.0],[0.0,0.0,0.0,0.0,0.0,0.0,0.0,0.0,0.0,0.0  …  0.0,0.0,0.0,0.0,0.0,0.0,0.0,0.0,0.0,0.0],[0.0,0.0,0.0,0.0,0.0,0.0,0.0,0.0,0.0,0.0  …  0.0,0.0,0.0,0.0,0.0,0.0,0.0,0.0,0.0,0.0],[0.0,0.0,0.0,0.0,0.0,0.0,0.0,0.0,0.0,0.0,0.0,0.0,0.0,0.0,0.0,0.0,0.0,0.0,0.0,0.0],[0.0,0.0,0.0,0.0,0.0,0.0,0.0,0.0,0.0,0.0,0.0,0.0,0.0,0.0,0.0,0.0,0.0,0.0,0.0,0.0],100),0.9,100,ReinforcementLearning.Simulator(0.99,MersenneTwister(Base.dSFMT.DSFMT_state(Int32[-1878228090,1073167410,-2128431889,1073557860,-1357051276,1073482711,2116741946,1073582577,1801057705,1073211568  …  -1696413121,1072698256,-1267179353,1072765318,-2056471310,-929776493,-892727657,-341633801,382,0]),[6.94782e-310,5.88588e-316,5.88644e-316,7.29114e-304,5.88359e-316,4.18246e-311,2.31306e-312,5.88643e-316,5.88639e-316,5.88632e-316  …  5.88658e-316,5.88659e-316,2.73737e-312,5.88657e-316,5.88626e-316,5.88663e-316,0.0,0.0,0.0,-5.55338e190],382,UInt32[0x000392fa]),MersenneTwister(Base.dSFMT.DSFMT_state(Int32[925593359,1073097610,-40215726,1073623399,1247437416,1073184766,1992028333,1073241897,-1003785101,1073160368  …  152366299,1073314948,1747315678,1073508326,-851108235,1583873678,-1549051359,1151679880,382,107]),[NaN,0.0,0.0,5.88674e-316,5.88674e-316,5.88676e-316,2.73771e-312,5.88674e-316,5.88673e-316,4.605e-316  …  6.94739e-310,0.0,5.88686e-316,5.88645e-316,6.94782e-310,7.59939e-316,5.8869e-316,2.122e-314,0.0,NaN],382,UInt32[0xfee0e674,0x00000016]),100,100,true,10,ReinforcementLearning.__visualizer,ReinforcementLearning.History(0,0),ReinforcementLearning.R_Hist([Real[]]),false))"
      ]
     },
     "execution_count": 46,
     "metadata": {},
     "output_type": "execute_result"
    }
   ],
   "source": [
    "solver = Solver(updater,\n",
    "                lr=0.001,\n",
    "                nb_episodes=2000,\n",
    "                nb_timesteps=250,\n",
    "                discount=0.99,\n",
    "                annealer=NullAnnealer(),\n",
    "                mb=NullMinibatcher(),\n",
    "                er=NullExperienceReplayer(),\n",
    "                display_interval=10)"
   ]
  },
  {
   "cell_type": "code",
   "execution_count": 47,
   "metadata": {
    "collapsed": false,
    "scrolled": false
   },
   "outputs": [
    {
     "name": "stdout",
     "output_type": "stream",
     "text": [
      "Solving problem...\n",
      "Episode 2000; Simulation 60, Average Total Reward: 6.849+/-0.0, 95% Confidence Interval: (6.849,6.849\t\t\t\t\t\t "
     ]
    },
    {
     "data": {
      "image/png": "[encoded data removed]",
      "text/plain": [
       "PyPlot.Figure(PyObject <matplotlib.figure.Figure object at 0x7fe3bed7da50>)"
      ]
     },
     "metadata": {},
     "output_type": "display_data"
    },
    {
     "data": {
      "text/plain": [
       "ReinforcementLearning.DiscretePolicy(ReinforcementLearning.DiscreteActionSpace{Tuple{Int64,Int64}}([(1,0),(-1,0),(0,1),(0,-1)]),feature_function,[6.91128,6.85647,0.214918,-0.0335506,0.283079,-0.0299666,0.0201112,0.0463429,0.00962369,-0.0425765  …  -0.0317579,0.0288903,0.00228773,0.00535764,0.0151077,-0.0258338,0.0506987,0.118766,0.725812,0.414625],ReinforcementLearning.NullFeatureExpander{Tuple{Int64,Int64}}(Dict((0,-1)=>4,(1,0)=>1,(0,1)=>3,(-1,0)=>2)))"
      ]
     },
     "execution_count": 47,
     "metadata": {},
     "output_type": "execute_result"
    },
    {
     "name": "stdout",
     "output_type": "stream",
     "text": [
      "\r",
      "Episode 2000; Simulation 70, Average Total Reward: 6.849+/-0.0, 95% Confidence Interval: (6.849,6.849\t\t\t\t\t\t \r",
      "Episode 2000; Simulation 80, Average Total Reward: 6.849+/-0.0, 95% Confidence Interval: (6.849,6.849\t\t\t\t\t\t \r",
      "Episode 2000; Simulation 90, Average Total Reward: 6.847+/-0.002, 95% Confidence Interval: (6.844,6.851\t\t\t\t\t\t \r",
      "Episode 2000; Simulation 100, Average Total Reward: 6.847+/-0.002, 95% Confidence Interval: (6.844,6.85\t\t\t\t\t\t "
     ]
    }
   ],
   "source": [
    "trained_policy = solve(solver,bbm,policy)"
   ]
  },
  {
   "cell_type": "markdown",
   "metadata": {},
   "source": [
    "## Evaluate Policy\n",
    "Basically just run a couple of simulations -- the simulator api is a subset of the stuff you see in solver"
   ]
  },
  {
   "cell_type": "code",
   "execution_count": 48,
   "metadata": {
    "collapsed": false,
    "scrolled": true
   },
   "outputs": [
    {
     "data": {
      "text/plain": [
       "ReinforcementLearning.Simulator(1.0,MersenneTwister(Base.dSFMT.DSFMT_state(Int32[-1878228090,1073167410,-2128431889,1073557860,-1357051276,1073482711,2116741946,1073582577,1801057705,1073211568  …  -1696413121,1072698256,-1267179353,1072765318,-2056471310,-929776493,-892727657,-341633801,382,1071500065]),[0.0,0.0,0.0,0.0,0.0,0.0,0.0,0.0,0.0,0.0  …  0.0,0.0,0.0,0.0,0.0,0.0,0.0,0.0,0.0,0.0],382,UInt32[0x000392fa]),MersenneTwister(Base.dSFMT.DSFMT_state(Int32[925593359,1073097610,-40215726,1073623399,1247437416,1073184766,1992028333,1073241897,-1003785101,1073160368  …  152366299,1073314948,1747315678,1073508326,-851108235,1583873678,-1549051359,1151679880,382,32739]),[3.28491e-316,5.93373e-321,6.06221e-316,7.10341e-316,0.0,0.0,5.62691e-316,6.94738e-310,6.60453e-316,4.94066e-324  …  4.59916e-316,4.59937e-316,7.90505e-323,3.95253e-323,403.18,538.777,403.49,7.95446e-322,4.59982e-316,6.22687e-316],382,UInt32[0xfee0e674,0x00000016]),50,250,true,10,visualize,ReinforcementLearning.History(0,0),ReinforcementLearning.R_Hist([Real[]]),false)"
      ]
     },
     "execution_count": 48,
     "metadata": {},
     "output_type": "execute_result"
    }
   ],
   "source": [
    "sim = Simulator(discount=1.,nb_sim=50,nb_timesteps=250,visualizer=visualize) #stuff..."
   ]
  },
  {
   "cell_type": "code",
   "execution_count": 49,
   "metadata": {
    "collapsed": false
   },
   "outputs": [
    {
     "name": "stdout",
     "output_type": "stream",
     "text": [
      "\r",
      "Simulating!\r"
     ]
    },
    {
     "data": {
      "text/plain": [
       "(8.75,0.0,1.0)"
      ]
     },
     "execution_count": 49,
     "metadata": {},
     "output_type": "execute_result"
    }
   ],
   "source": [
    "#returns average reward for now...\n",
    "R_avg = simulate(sim,bbm,trained_policy)"
   ]
  },
  {
   "cell_type": "code",
   "execution_count": 50,
   "metadata": {
    "collapsed": false
   },
   "outputs": [
    {
     "data": {
      "text/html": [],
      "text/plain": [
       "Interact.Slider{Int64}(Signal{Int64}(13, nactions=0),\"i\",13,1:26,true)"
      ]
     },
     "metadata": {},
     "output_type": "display_data"
    },
    {
     "data": {
      "image/png": "[encoded data removed]",
      "text/plain": [
       "PyPlot.Figure(PyObject <matplotlib.figure.Figure object at 0x7fe3be5532d0>)"
      ]
     },
     "execution_count": 50,
     "metadata": {
      "comm_id": "4dc0f102-e08c-41f1-8c1f-2bab79b54f03",
      "reactive": true
     },
     "output_type": "execute_result"
    },
    {
     "name": "stdout",
     "output_type": "stream",
     "text": [
      "Simulation 10, Average Total Reward: 8.75+/-0.0, 95% Confidence Interval: (8.75,8.75\t\t\t\t\t\t \r",
      "Simulation 20, Average Total Reward: 8.75+/-0.0, 95% Confidence Interval: (8.75,8.75\t\t\t\t\t\t \r",
      "Simulation 30, Average Total Reward: 8.75+/-0.0, 95% Confidence Interval: (8.75,8.75\t\t\t\t\t\t \r",
      "Simulation 40, Average Total Reward: 8.75+/-0.0, 95% Confidence Interval: (8.75,8.75\t\t\t\t\t\t \r",
      "Simulation 50, Average Total Reward: 8.75+/-0.0, 95% Confidence Interval: (8.75,8.75\t\t\t\t\t\t "
     ]
    }
   ],
   "source": [
    "visualize(m,sim.hist.S,sim.hist.A)\n",
    "#note: joint features gets 8.82\n",
    "#note disjoint features gets: "
   ]
  },
  {
   "cell_type": "markdown",
   "metadata": {},
   "source": [
    "Note that we have to call visualize externally. Currently getting the visualization to work two or three function calls in isn't quite working."
   ]
  },
  {
   "cell_type": "code",
   "execution_count": null,
   "metadata": {
    "collapsed": true
   },
   "outputs": [],
   "source": []
  }
 ],
 "metadata": {
  "kernelspec": {
   "display_name": "Julia 0.4.2",
   "language": "julia",
   "name": "julia-0.4"
  },
  "language_info": {
   "file_extension": ".jl",
   "mimetype": "application/julia",
   "name": "julia",
   "version": "0.4.2"
  }
 },
 "nbformat": 4,
 "nbformat_minor": 0
}
